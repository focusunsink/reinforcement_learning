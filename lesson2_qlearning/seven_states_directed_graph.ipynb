{
 "cells": [
  {
   "cell_type": "markdown",
   "id": "4046d546",
   "metadata": {},
   "source": [
    "![Graph](./seven_states_directed_graph.png)\n"
   ]
  },
  {
   "cell_type": "code",
   "execution_count": 3,
   "id": "0b546700",
   "metadata": {},
   "outputs": [],
   "source": [
    "# Q-Learning implementation for a 7-state directed graph\n",
    "import numpy as np\n",
    "import random\n"
   ]
  },
  {
   "cell_type": "code",
   "execution_count": 4,
   "id": "05df6fa1",
   "metadata": {},
   "outputs": [],
   "source": [
    "\n",
    "# Reward matrix R: shape (7, 7)\n",
    "R = np.array([\n",
    "    [-1, -1, -1,  0, -1, -1, -1],\n",
    "    [-1, -1,  0, -1, -1, -1, -1],\n",
    "    [-1,  0, -1,  0, -1,  0, -1],\n",
    "    [ 0, -1,  0, -1,  0, -1, -1],\n",
    "    [-1, -1, -1,  0, -1,  0, 100],\n",
    "    [-1, -1,  0, -1,  0, -1, 100],\n",
    "    [-1, -1, -1, -1, -1, -1, 100],\n",
    "])"
   ]
  },
  {
   "cell_type": "code",
   "execution_count": 5,
   "id": "95f06443",
   "metadata": {},
   "outputs": [],
   "source": [
    "# Initialize Q table\n",
    "Q = np.zeros_like(R, dtype=float)"
   ]
  },
  {
   "cell_type": "code",
   "execution_count": 6,
   "id": "ff1561ae",
   "metadata": {},
   "outputs": [],
   "source": [
    "\n",
    "gamma = 0.8      # Discount factor\n",
    "alpha = 0.9      # Learning rate\n",
    "n_states = R.shape[0]\n",
    "episodes = 1000  # Number of training episodes"
   ]
  },
  {
   "cell_type": "code",
   "execution_count": 7,
   "id": "273b84d1",
   "metadata": {},
   "outputs": [],
   "source": [
    "# Training process\n",
    "for i in range(episodes):\n",
    "    state = random.randint(0, n_states - 1)\n",
    "    while state != 6:\n",
    "        # Get all possible actions\n",
    "        possible_actions = [a for a in range(n_states) if R[state, a] >= 0]\n",
    "        if not possible_actions:\n",
    "            break\n",
    "        next_state = random.choice(possible_actions)\n",
    "        Q[state, next_state] = Q[state, next_state] + alpha * (\n",
    "            R[state, next_state] + gamma * Q[next_state].max() - Q[state, next_state]\n",
    "        )\n",
    "        state = next_state"
   ]
  },
  {
   "cell_type": "code",
   "execution_count": 8,
   "id": "bc4cef2f",
   "metadata": {},
   "outputs": [
    {
     "name": "stdout",
     "output_type": "stream",
     "text": [
      "Learned Q-Table (Normalized):\n",
      "[[  0.    0.    0.   64.    0.    0.    0. ]\n",
      " [  0.    0.   64.    0.    0.    0.    0. ]\n",
      " [  0.   51.2   0.   64.    0.   80.    0. ]\n",
      " [ 51.2   0.   64.    0.   80.    0.    0. ]\n",
      " [  0.    0.    0.   64.    0.   80.  100. ]\n",
      " [  0.    0.   64.    0.   80.    0.  100. ]\n",
      " [  0.    0.    0.    0.    0.    0.    0. ]]\n",
      "\n",
      "Optimal Policy from each state:\n",
      "From state 0 -> Go to 3\n",
      "From state 1 -> Go to 2\n",
      "From state 2 -> Go to 5\n",
      "From state 3 -> Go to 4\n",
      "From state 4 -> Go to 6\n",
      "From state 5 -> Go to 6\n",
      "From state 6 -> Go to 0\n"
     ]
    }
   ],
   "source": [
    "# Normalize Q table for readability\n",
    "Q_norm = Q / Q.max() * 100\n",
    "\n",
    "# Print the final Q table\n",
    "print(\"Learned Q-Table (Normalized):\")\n",
    "np.set_printoptions(precision=1, suppress=True)\n",
    "print(Q_norm)\n",
    "\n",
    "# Derive optimal policy\n",
    "print(\"\\nOptimal Policy from each state:\")\n",
    "for s in range(n_states):\n",
    "    best_action = np.argmax(Q[s])\n",
    "    print(f\"From state {s} -> Go to {best_action}\")"
   ]
  },
  {
   "cell_type": "code",
   "execution_count": null,
   "id": "81a32585",
   "metadata": {},
   "outputs": [
    {
     "name": "stdout",
     "output_type": "stream",
     "text": [
      "Learned Q-Table (Normalized):\n",
      "[[  0.    0.    0.   64.    0.    0.    0. ]\n",
      " [  0.    0.   64.    0.    0.    0.    0. ]\n",
      " [  0.   51.2   0.   64.    0.   80.    0. ]\n",
      " [ 51.2   0.   64.    0.   80.    0.    0. ]\n",
      " [  0.    0.    0.   64.    0.   80.  100. ]\n",
      " [  0.    0.   64.    0.   80.    0.  100. ]\n",
      " [  0.    0.    0.    0.    0.    0.    0. ]]\n",
      "\n",
      "Optimal Policy from each state:\n",
      "From state 0 -> Go to 3\n",
      "From state 1 -> Go to 2\n",
      "From state 2 -> Go to 5\n",
      "From state 3 -> Go to 4\n",
      "From state 4 -> Go to 6\n",
      "From state 5 -> Go to 6\n",
      "From state 6 -> Go to 0\n"
     ]
    }
   ],
   "source": [
    "\n",
    "\n"
   ]
  },
  {
   "cell_type": "code",
   "execution_count": null,
   "id": "2dd1dc65",
   "metadata": {},
   "outputs": [],
   "source": []
  }
 ],
 "metadata": {
  "kernelspec": {
   "display_name": "Python 3",
   "language": "python",
   "name": "python3"
  },
  "language_info": {
   "codemirror_mode": {
    "name": "ipython",
    "version": 3
   },
   "file_extension": ".py",
   "mimetype": "text/x-python",
   "name": "python",
   "nbconvert_exporter": "python",
   "pygments_lexer": "ipython3",
   "version": "3.9.6"
  }
 },
 "nbformat": 4,
 "nbformat_minor": 5
}
