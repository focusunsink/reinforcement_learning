{
 "cells": [
  {
   "cell_type": "code",
   "execution_count": null,
   "id": "6c054d07",
   "metadata": {},
   "outputs": [],
   "source": [
    "import gymnasium as gym\n",
    "import numpy as np\n",
    "import matplotlib.pyplot as plt\n",
    "import pickle"
   ]
  },
  {
   "cell_type": "code",
   "execution_count": null,
   "id": "2eb41ab8",
   "metadata": {},
   "outputs": [],
   "source": [
    "# create the environment\n",
    "# and get the observation space bounds\n",
    "env = gym.make(\"MountainCar-v0\", render_mode=None)\n",
    "obs_low = env.observation_space.low\n",
    "obs_high = env.observation_space.high\n",
    "n_actions = env.action_space.n"
   ]
  },
  {
   "cell_type": "code",
   "execution_count": null,
   "id": "33fbe532",
   "metadata": {},
   "outputs": [],
   "source": [
    "# define the number of bins for each dimension\n",
    "bins = np.array([18, 14])\n",
    "Q = np.zeros(tuple(bins) + (n_actions,))"
   ]
  },
  {
   "cell_type": "code",
   "execution_count": null,
   "id": "f95b2692",
   "metadata": {},
   "outputs": [],
   "source": [
    "# function to choose an action based on the Q-table\n",
    "def discretize(obs):\n",
    "    ratios = (obs - obs_low) / (obs_high - obs_low)\n",
    "    ratios = np.clip(ratios, 0, 0.999)\n",
    "    return tuple((ratios * bins).astype(int))"
   ]
  },
  {
   "cell_type": "code",
   "execution_count": null,
   "id": "a460de52",
   "metadata": {},
   "outputs": [],
   "source": [
    "# function to choose an action based on epsilon-greedy policy\n",
    "alpha = 0.1\n",
    "gamma = 0.99\n",
    "epsilon = 0.1\n",
    "episodes = 5000"
   ]
  },
  {
   "cell_type": "code",
   "execution_count": null,
   "id": "daad5e2e",
   "metadata": {},
   "outputs": [],
   "source": [
    "\n",
    "reward_log = []\n",
    "\n",
    "# train the agent\n",
    "print(\"Training the agent...\")\n",
    "for ep in range(episodes):\n",
    "    obs, _ = env.reset()\n",
    "    state = discretize(obs)\n",
    "    total_reward = 0\n",
    "    done = False\n",
    "\n",
    "    while not done:\n",
    "        if np.random.rand() < epsilon:\n",
    "            action = np.random.randint(n_actions)\n",
    "        else:\n",
    "            action = np.argmax(Q[state])\n",
    "\n",
    "        next_obs, reward, terminated, truncated, _ = env.step(action)\n",
    "        next_state = discretize(next_obs)\n",
    "        done = terminated or truncated\n",
    "\n",
    "        Q[state][action] += alpha * (reward + gamma * np.max(Q[next_state]) - Q[state][action])\n",
    "        state = next_state\n",
    "        total_reward += reward\n",
    "\n",
    "    reward_log.append(total_reward)\n",
    "    if (ep + 1) % 500 == 0:\n",
    "        print(f\"Episode {ep+1}: Reward = {total_reward}\")"
   ]
  },
  {
   "cell_type": "code",
   "execution_count": null,
   "id": "e3feef05",
   "metadata": {},
   "outputs": [],
   "source": [
    "# === 绘制训练曲线 ===\n",
    "plt.plot(reward_log)\n",
    "plt.xlabel(\"Episode\")\n",
    "plt.ylabel(\"Total Reward\")\n",
    "plt.title(\"MountainCar Q-Learning Training Curve\")\n",
    "plt.grid(True)\n",
    "plt.show()"
   ]
  },
  {
   "cell_type": "code",
   "execution_count": null,
   "id": "936b32cc",
   "metadata": {},
   "outputs": [],
   "source": [
    "# save the Q-table to a file\n",
    "with open(\"q_table.pkl\", \"wb\") as f:\n",
    "    pickle.dump(Q, f)\n",
    "print(\"✅ Q save as q_table.pkl\")"
   ]
  },
  {
   "cell_type": "code",
   "execution_count": null,
   "id": "f8b68527",
   "metadata": {},
   "outputs": [],
   "source": [
    "\n",
    "# === infer use the trained Q-table to play the game and visualize the result by rendering the environment ===\n",
    "env = gym.make(\"MountainCar-v0\", render_mode=\"human\")\n",
    "obs, _ = env.reset()\n",
    "state = discretize(obs)\n",
    "done = False\n",
    "total_steps = 0\n",
    "\n",
    "while not done:\n",
    "    action = np.argmax(Q[state])\n",
    "    obs, reward, terminated, truncated, _ = env.step(action)\n",
    "    state = discretize(obs)\n",
    "    done = terminated or truncated\n",
    "    total_steps += 1\n",
    "\n",
    "print(f\"  infer steps: {total_steps}  reward: {reward}\")\n",
    "env.close()"
   ]
  }
 ],
 "metadata": {
  "kernelspec": {
   "display_name": "Python 3",
   "language": "python",
   "name": "python3"
  },
  "language_info": {
   "codemirror_mode": {
    "name": "ipython",
    "version": 3
   },
   "file_extension": ".py",
   "mimetype": "text/x-python",
   "name": "python",
   "nbconvert_exporter": "python",
   "pygments_lexer": "ipython3",
   "version": "3.9.6"
  }
 },
 "nbformat": 4,
 "nbformat_minor": 5
}
